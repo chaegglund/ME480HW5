{
 "cells": [
  {
   "cell_type": "code",
   "execution_count": 67,
   "metadata": {},
   "outputs": [],
   "source": [
    "from solid import *\n",
    "from solid.utils import *\n",
    "import viewscad\n",
    "\n",
    "r = viewscad.Renderer(openscad_exec='C:\\Program Files\\OpenSCAD\\openscad.exe')\n",
    "\n",
    "d = difference()(\n",
    "    cylinder(r=10,h=10),\n",
    "    cylinder(r=5,h=10)\n",
    ")\n",
    "#r.render(d)"
   ]
  },
  {
   "cell_type": "code",
   "execution_count": 84,
   "metadata": {},
   "outputs": [
    {
     "name": "stdout",
     "output_type": "stream",
     "text": [
      "error\n"
     ]
    }
   ],
   "source": [
    "def cyl (inside,outside):\n",
    "    if outside>inside and outside>=0 and inside>=0:\n",
    "        return difference()(cylinder(outside,10),cylinder(inside,10))\n",
    "    else:\n",
    "        return print(\"error\")\n",
    "r.render(cyl(5,10))"
   ]
  },
  {
   "cell_type": "code",
   "execution_count": 134,
   "metadata": {},
   "outputs": [
    {
     "data": {
      "application/vnd.jupyter.widget-view+json": {
       "model_id": "e62b539bed154caf84a86f69578db51f",
       "version_major": 2,
       "version_minor": 0
      },
      "text/plain": [
       "VBox(children=(HTML(value=''), Renderer(background='#cccc88', background_opacity=0.0, camera=PerspectiveCamera…"
      ]
     },
     "metadata": {},
     "output_type": "display_data"
    }
   ],
   "source": [
    "def cyl (inner,thick):\n",
    "    num=len(inner)\n",
    "    c=[]\n",
    "    trans=0\n",
    "    for i in range(0,num):\n",
    "        if inner[i]<0 or thick<0:\n",
    "            return print(\"error\")\n",
    "        if i>0:\n",
    "            trans+=inner[i-1]+inner[i]+thick\n",
    "        c.append(translate([trans,0,0])(difference()(cylinder(inner[i]+thick,10),cylinder(inner[i],10))))    \n",
    "    return union()(c)    \n",
    "r.render(cyl([10,20,10,7,31],5))"
   ]
  },
  {
   "cell_type": "code",
   "execution_count": null,
   "metadata": {},
   "outputs": [],
   "source": []
  }
 ],
 "metadata": {
  "kernelspec": {
   "display_name": "Python 3",
   "language": "python",
   "name": "python3"
  },
  "language_info": {
   "codemirror_mode": {
    "name": "ipython",
    "version": 3
   },
   "file_extension": ".py",
   "mimetype": "text/x-python",
   "name": "python",
   "nbconvert_exporter": "python",
   "pygments_lexer": "ipython3",
   "version": "3.7.3"
  }
 },
 "nbformat": 4,
 "nbformat_minor": 2
}
